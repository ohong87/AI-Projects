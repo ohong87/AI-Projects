{
 "cells": [
  {
   "cell_type": "code",
   "execution_count": 1,
   "metadata": {},
   "outputs": [],
   "source": [
    "import numpy as np"
   ]
  },
  {
   "cell_type": "code",
   "execution_count": 2,
   "metadata": {},
   "outputs": [],
   "source": [
    "# Helper function to get the next state\n",
    "def get_next_state(s, action, grid_size):\n",
    "    if action == 'UP':\n",
    "        # If the agent tries to move up from the top row, stay in the same state\n",
    "        return max(s - grid_size, 0) if s >= grid_size else s\n",
    "    elif action == 'DOWN':\n",
    "        # If the agent tries to move down from the bottom row, stay in the same state\n",
    "        return min(s + grid_size, grid_size**2 - 1) if s < grid_size*(grid_size - 1) else s\n",
    "    elif action == 'LEFT':\n",
    "        # If the agent tries to move left from the first column, stay in the same state\n",
    "        return s if s % grid_size == 0 else s - 1\n",
    "    elif action == 'RIGHT':\n",
    "        # If the agent tries to move right from the last column, stay in the same state\n",
    "        return s if (s + 1) % grid_size == 0 else s + 1\n",
    "    return s"
   ]
  },
  {
   "cell_type": "code",
   "execution_count": 3,
   "metadata": {},
   "outputs": [],
   "source": [
    "# Value Iteration Function, Students need to implement the following loop\n",
    "def MDP_value_iteration(S, A, P, R, gamma, eta, max_iter):\n",
    "    # Input: S, A, P, R, gamma, eta, max_iter\n",
    "    # S: set of states, stored as a list of integers\n",
    "    # A: set of actions, stored as a list of strings, e.g. ['UP', 'DOWN', 'LEFT', 'RIGHT']\n",
    "    # P: transition probabilities matrix, stored as a 3D numpy array, P[s',s,a] = P(s'|s,a)\n",
    "    # R: reward function, stored as a 1D numpy array, R[s] = R(s)\n",
    "    # gamma: discount factor\n",
    "    # eta: convergence factor\n",
    "    # max_iter: maximum number of iterations\n",
    "    # Initialize the utilities for each state as zeros\n",
    "    U = np.zeros(len(S))\n",
    "\n",
    "    for i in range(max_iter):\n",
    "        # Create a copy of the current utility values\n",
    "        U_prev = U.copy()\n",
    "        delta = 0\n",
    "        \n",
    "        # Iterate over all states in S\n",
    "        for s in S:\n",
    "            # 1. Calculate the sum of utilities for each action a in A\n",
    "            # 2. Use the Bellman equation: R[s] + gamma * max(sum(P(s'|s,a) * U_prev[s']) for each a in A)\n",
    "            # 3. P(s'|s,a) is the probability of transitioning to state s' from state s given action a\n",
    "            # 4. U_prev[s'] is the utility of the state s' from the previous iteration\n",
    "            biggest = -1 * float('inf')\n",
    "            \n",
    "            for a in A:\n",
    "                biggest = max(sum(P[s][a].get(sPrime, 0) * U_prev[sPrime] for sPrime in S), biggest)\n",
    "                \n",
    "            U[s] = R[s] + gamma * biggest\n",
    "            delta = max(delta, np.abs(U[s] - U_prev[s]))\n",
    "            \n",
    "        # Check for convergence\n",
    "        # 1. Find the maximum absolute change in utilities\n",
    "        # 2. Compare this value with eta\n",
    "        if delta < eta:\n",
    "            break\n",
    "            \n",
    "    # Return the final utilities\n",
    "    return U\n",
    "\n",
    "\n",
    "# Policy Generation Function\n",
    "def MDP_policy(S, A, P, U):\n",
    "    # policy[s] is the best action to take in state s, firstly set it to 0 for all states\n",
    "    policy = np.zeros(len(S), dtype=int)\n",
    "    \n",
    "    # Iterate over all states in S\n",
    "    for s in S:\n",
    "        aUtilities = {}\n",
    "        \n",
    "        for index, a in enumerate(A):\n",
    "            aUtility = sum(P[s][a].get(sPrime, 0) * U[sPrime] for sPrime in S)\n",
    "            aUtilities[a] = aUtility\n",
    "            \n",
    "        best = max(aUtilities, key=aUtilities.get)\n",
    "        policy[s] = A.index(best)\n",
    "    return policy"
   ]
  },
  {
   "cell_type": "code",
   "execution_count": 4,
   "metadata": {
    "scrolled": true
   },
   "outputs": [
    {
     "name": "stdout",
     "output_type": "stream",
     "text": [
      "Utilities and Policy for the Given Wumpus World:\n",
      "27.79 → | 32.73 → | 38.47 → | 45.14 ← | \n",
      "24.50 → | 28.57 → | 33.25 ↑ | 38.47 ↑ | \n",
      "21.24 ↑ | 24.15 ↑ | 23.93 ↑ | 32.27 ↑ | \n",
      "17.31 ↑ | 10.48 ↑ | 17.97 → | 26.78 ↑ | \n"
     ]
    }
   ],
   "source": [
    "# Define the Wumpus world\n",
    "grid_size = 4  # 4x4 grid\n",
    "S = range(grid_size**2)  # States\n",
    "A = ['RIGHT', 'LEFT', 'DOWN', 'UP']  # Actions\n",
    "\n",
    "# Define the transition probabilities with stochastic movement\n",
    "# P[s][a][s'] = P(s'|s,a)\n",
    "P = {s: {a: {} for a in A} for s in S}\n",
    "for s in S:\n",
    "    for a in A:\n",
    "        intended_state = get_next_state(s, a, grid_size)\n",
    "        P[s][a][intended_state] = 0.8\n",
    "        if a in ['LEFT', 'RIGHT']:\n",
    "            P[s][a][get_next_state(s, 'UP', grid_size)] = 0.1\n",
    "            P[s][a][get_next_state(s, 'DOWN', grid_size)] = 0.1\n",
    "        else:\n",
    "            P[s][a][get_next_state(s, 'LEFT', grid_size)] = 0.1\n",
    "            P[s][a][get_next_state(s, 'RIGHT', grid_size)] = 0.1\n",
    "\n",
    "# Define the rewards for each state\n",
    "R = [-0.4] * 16\n",
    "R[3] = 10   # Gold\n",
    "R[10] = -5  # Pit\n",
    "R[14] = -5  # Pit\n",
    "R[13] = -10 # Wumpus\n",
    "\n",
    "# Run value iteration\n",
    "gamma = 0.9\n",
    "eta = 0.1\n",
    "max_iter = 10000\n",
    "U = MDP_value_iteration(S, A, P, R, gamma, eta, max_iter)\n",
    "\n",
    "# Policy representation for printing\n",
    "policy_repr = {0: '→', 1: '←', 2: '↓', 3: '↑'} \n",
    "\n",
    "# Generate policy\n",
    "policy = MDP_policy(S, A, P, U)\n",
    "\n",
    "# Print utilities and policy in a 4x4 grid\n",
    "print(\"Utilities and Policy for the Given Wumpus World:\")\n",
    "for i in range(grid_size):\n",
    "    for j in range(grid_size):\n",
    "        state = i * grid_size + j\n",
    "        print(f\"{U[state]:.2f} {policy_repr[policy[state]]}\", end=\" | \")\n",
    "    print()"
   ]
  },
  {
   "cell_type": "code",
   "execution_count": null,
   "metadata": {},
   "outputs": [],
   "source": []
  },
  {
   "cell_type": "code",
   "execution_count": null,
   "metadata": {},
   "outputs": [],
   "source": []
  }
 ],
 "metadata": {
  "kernelspec": {
   "display_name": "Python 3 (ipykernel)",
   "language": "python",
   "name": "python3"
  },
  "language_info": {
   "codemirror_mode": {
    "name": "ipython",
    "version": 3
   },
   "file_extension": ".py",
   "mimetype": "text/x-python",
   "name": "python",
   "nbconvert_exporter": "python",
   "pygments_lexer": "ipython3",
   "version": "3.11.5"
  }
 },
 "nbformat": 4,
 "nbformat_minor": 2
}
